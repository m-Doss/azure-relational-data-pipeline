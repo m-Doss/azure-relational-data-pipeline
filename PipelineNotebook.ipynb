{
    "cells": [
        {
            "attachments": {},
            "cell_type": "markdown",
            "metadata": {
                "azdata_cell_guid": "4555bc33-5a50-44ae-9cfe-dbe7ce26f10d",
                "language": "sql"
            },
            "source": [
                "# BAIS:3600 | Data Engineering | Structured-Data Pipeline | Malek Aldoss\n",
                "\n",
                "Hi! This is the README file. This notebook can be found in the project's repo.\n",
                "The sql scripts of each view and table can be found in .sql file format in the zip file under the file name \"SqlScripts\".\n",
                "Purpose: The pipline copies data from 3 views into thier matching tables."
            ]
        },
        {
            "attachments": {},
            "cell_type": "markdown",
            "metadata": {
                "azdata_cell_guid": "3efac8cb-df6a-4fd0-94b4-74ba88368577",
                "language": ""
            },
            "source": [
                "## **Step 1: Create schema for new views and destination tables**"
            ]
        },
        {
            "cell_type": "code",
            "execution_count": null,
            "metadata": {
                "azdata_cell_guid": "eeb04f79-f68b-48f4-bb0d-47c8be9a48c4",
                "language": "sql",
                "tags": []
            },
            "outputs": [],
            "source": [
                "--New pipeline schema to store the views and tables used by the pipeline.\n",
                "CREATE SCHEMA PipelineSchema;"
            ]
        },
        {
            "attachments": {},
            "cell_type": "markdown",
            "metadata": {
                "azdata_cell_guid": "a2f9fe50-d260-434e-bf87-8970372d48fb",
                "language": "sql"
            },
            "source": [
                "## **Step 2: Creating three views to extract data from**"
            ]
        },
        {
            "cell_type": "code",
            "execution_count": 9,
            "metadata": {
                "azdata_cell_guid": "5b06d380-e2d7-4e48-a705-0d2b484fcc58",
                "language": "sql"
            },
            "outputs": [
                {
                    "data": {
                        "text/html": [
                            "Commands completed successfully."
                        ]
                    },
                    "metadata": {},
                    "output_type": "display_data"
                },
                {
                    "data": {
                        "text/html": [
                            "Total execution time: 00:00:00.049"
                        ]
                    },
                    "metadata": {},
                    "output_type": "display_data"
                }
            ],
            "source": [
                "--First view: To display products and product description, model, category, and culture.\n",
                "CREATE VIEW [PipelineSchema].[vw_ProductDetails] \n",
                "WITH SCHEMABINDING \n",
                "AS \n",
                "\n",
                "SELECT \n",
                "    p.[ProductID],\n",
                "    p.[Name],\n",
                "    pm.[Name] AS [Model],\n",
                "    pc.[Name] AS [Category],\n",
                "    pmx.[Culture],\n",
                "    pd.[Description] \n",
                "\n",
                "FROM \n",
                "    [SalesLT].[Product] p \n",
                "    INNER JOIN [SalesLT].[ProductModel] pm \n",
                "    ON p.[ProductModelID] = pm.[ProductModelID]\n",
                "\n",
                "    INNER JOIN [SalesLT].[ProductCategory] pc \n",
                "    ON p.[ProductCategoryID] = pc.[ProductCategoryID]\n",
                "\n",
                "    INNER JOIN [SalesLT].[ProductModelProductDescription] pmx \n",
                "    ON pm.[ProductModelID] = pmx.[ProductModelID]\n",
                "\n",
                "    INNER JOIN [SalesLT].[ProductDescription] pd \n",
                "    ON pmx.[ProductDescriptionID] = pd.[ProductDescriptionID];"
            ]
        },
        {
            "cell_type": "code",
            "execution_count": 4,
            "metadata": {
                "azdata_cell_guid": "26e6d614-b4df-4009-adfb-9217f46bfd3a",
                "language": "sql"
            },
            "outputs": [
                {
                    "data": {
                        "text/html": [
                            "Commands completed successfully."
                        ]
                    },
                    "metadata": {},
                    "output_type": "display_data"
                },
                {
                    "data": {
                        "text/html": [
                            "Total execution time: 00:00:00.049"
                        ]
                    },
                    "metadata": {},
                    "output_type": "display_data"
                }
            ],
            "source": [
                "--Second view: Sales orders and thier ship addresses; to analyze locations that take longer shipping times.\n",
                "CREATE VIEW [PipelineSchema].[vw_ShippedOrders]\n",
                "WITH SCHEMABINDING \n",
                "AS\n",
                "\n",
                "SELECT \n",
                "    SOH.[SalesOrderID],\n",
                "    SOH.[OrderDate],\n",
                "    SOH.[DueDate],\n",
                "    SOH.[ShipDate],\n",
                "    SOH.[ShipMethod],\n",
                "    A.[City],\n",
                "    A.[StateProvince],\n",
                "    A.[CountryRegion]\n",
                "\n",
                "FROM \n",
                "    [SalesLT].[Address] A\n",
                "    INNER JOIN [SalesLT].[SalesOrderHeader] SOH\n",
                "    ON A.[AddressID] = SOH.[ShipToAddressID]\n",
                "\n",
                "WHERE \n",
                "    SOH.[Status] = 5;"
            ]
        },
        {
            "cell_type": "code",
            "execution_count": 11,
            "metadata": {
                "azdata_cell_guid": "5dd39c71-a401-4db8-9434-c18fcdfcc66b",
                "language": "sql"
            },
            "outputs": [
                {
                    "data": {
                        "text/html": [
                            "Commands completed successfully."
                        ]
                    },
                    "metadata": {},
                    "output_type": "display_data"
                },
                {
                    "data": {
                        "text/html": [
                            "Total execution time: 00:00:00.048"
                        ]
                    },
                    "metadata": {},
                    "output_type": "display_data"
                }
            ],
            "source": [
                "--Third view: Sales personal and their sales stats to keep track of their performance.\n",
                "CREATE VIEW [PipelineSchema].[vw_SalesPersonStats] \n",
                "WITH SCHEMABINDING \n",
                "AS\n",
                "\n",
                "SELECT \n",
                "    C.[SalesPerson], \n",
                "    COUNT(C.[CustomerID]) AS TotalClients, \n",
                "    COUNT([SalesOrderID]) AS TotalSales, \n",
                "    FORMAT(SUM([SubTotal]),'C') AS TotalRevenue, \n",
                "    FORMAT(SUM([SubTotal])/COUNT([SalesOrderID]), 'C') AS AvgSale\n",
                "\n",
                "FROM \n",
                "    [SalesLT].[SalesOrderHeader] SHO\n",
                "    INNER JOIN [SalesLT].[Customer] C\n",
                "    ON SHO.[CustomerID] = C.[CustomerID]\n",
                "\n",
                "GROUP BY \n",
                "    C.[SalesPerson];"
            ]
        },
        {
            "attachments": {},
            "cell_type": "markdown",
            "metadata": {
                "azdata_cell_guid": "b5eb8afb-fc76-4630-927f-cdbe580b5c6c",
                "language": "sql"
            },
            "source": [
                "## **Step 3: Creating three tables to load data in**"
            ]
        },
        {
            "cell_type": "code",
            "execution_count": 10,
            "metadata": {
                "azdata_cell_guid": "cf856c26-6f98-464b-9e70-625476ae405d",
                "language": "sql"
            },
            "outputs": [
                {
                    "data": {
                        "text/html": [
                            "Commands completed successfully."
                        ]
                    },
                    "metadata": {},
                    "output_type": "display_data"
                },
                {
                    "data": {
                        "text/html": [
                            "Total execution time: 00:00:00.072"
                        ]
                    },
                    "metadata": {},
                    "output_type": "display_data"
                }
            ],
            "source": [
                "--First Destination Table.\n",
                "CREATE TABLE [PipelineSchema].[ProductDetails] (\n",
                "    ProductID INT NOT NULL,\n",
                "    Name NVARCHAR(256) NOT NULL,\n",
                "    Model NVARCHAR(256) NOT NULL,\n",
                "    Category NVARCHAR(256) NOT NULL,\n",
                "    Culture NVARCHAR(6) NOT NULL,\n",
                "    Description NVARCHAR(400) NOT NULL\n",
                "CONSTRAINT [PK_Product_ID] PRIMARY KEY CLUSTERED ([ProductID], [Culture]) ON [PRIMARY] \n",
                ");"
            ]
        },
        {
            "cell_type": "code",
            "execution_count": 6,
            "metadata": {
                "azdata_cell_guid": "7241c058-af61-4b7c-9096-c147106b69f8",
                "language": "sql",
                "tags": []
            },
            "outputs": [
                {
                    "data": {
                        "text/html": [
                            "Commands completed successfully."
                        ]
                    },
                    "metadata": {},
                    "output_type": "display_data"
                },
                {
                    "data": {
                        "text/html": [
                            "Total execution time: 00:00:00.050"
                        ]
                    },
                    "metadata": {},
                    "output_type": "display_data"
                }
            ],
            "source": [
                "--Second Destination Table.\n",
                "CREATE TABLE [PipelineSchema].[ShippedOrders] (\n",
                "    SalesOrderID INT NOT NULL,\n",
                "    OrderDate DATETIME NOT NULL,\n",
                "    DueDate DATETIME NOT NULL,\n",
                "    ShipDate DATETIME NOT NULL,\n",
                "    ShipMethod NVARCHAR(50) NOT NULL,\n",
                "    City NVARCHAR(30) NOT NULL,\n",
                "    StateProvince NVARCHAR(256) NOT NULL,\n",
                "    CountryRegion NVARCHAR(256) NOT NULL,\n",
                "CONSTRAINT [PK_Order_ID] PRIMARY KEY CLUSTERED([SalesOrderID])\n",
                ");"
            ]
        },
        {
            "cell_type": "code",
            "execution_count": 13,
            "metadata": {
                "azdata_cell_guid": "45d68da1-e620-4627-b981-b3a807805171",
                "language": "sql"
            },
            "outputs": [
                {
                    "data": {
                        "text/html": [
                            "Commands completed successfully."
                        ]
                    },
                    "metadata": {},
                    "output_type": "display_data"
                },
                {
                    "data": {
                        "text/html": [
                            "Total execution time: 00:00:00.048"
                        ]
                    },
                    "metadata": {},
                    "output_type": "display_data"
                }
            ],
            "source": [
                "--Third Destination Table.\n",
                "CREATE TABLE [PipelineSchema].[SalesPersonStats] (\n",
                "    SalesPerson NVARCHAR(256) NOT NULL,\n",
                "    TotalClients INT NOT NULL,\n",
                "    TotalSales INT NOT NULL,\n",
                "    TotalRevenue VARCHAR(256) NOT NULL,\n",
                "    AvgSale VARCHAR(256) NOT NULL,\n",
                "CONSTRAINT [PK_SalesPerson] PRIMARY KEY CLUSTERED([SalesPerson])\n",
                ");"
            ]
        },
        {
            "attachments": {},
            "cell_type": "markdown",
            "metadata": {
                "azdata_cell_guid": "8de21438-535c-4be5-8e0b-e671504de23d",
                "language": "sql"
            },
            "source": [
                "## **Step 4: One pipeline JSON template + One support files export**\n",
                "\n",
                "The pipline's JSON template can be found in the zip file under the file name \"pipeline\\_main\"\n",
                "\n",
                "The ipeline's support files can be found in the zip file under the file name \"pipeline\\_main\\_support\\_live\""
            ]
        },
        {
            "attachments": {},
            "cell_type": "markdown",
            "metadata": {
                "azdata_cell_guid": "c8f8f0d5-9ce5-4e6d-8ccd-6f1b41490aca",
                "language": "sql"
            },
            "source": [
                "## **Step 5: Validate that all data records were correctly copied**"
            ]
        },
        {
            "cell_type": "code",
            "execution_count": 1,
            "metadata": {
                "azdata_cell_guid": "33d5696d-e584-4f75-baaa-b9924cd117cf",
                "language": "sql"
            },
            "outputs": [
                {
                    "data": {
                        "text/html": [
                            "(1 row affected)"
                        ]
                    },
                    "metadata": {},
                    "output_type": "display_data"
                },
                {
                    "data": {
                        "text/html": [
                            "(1 row affected)"
                        ]
                    },
                    "metadata": {},
                    "output_type": "display_data"
                },
                {
                    "data": {
                        "text/html": [
                            "Total execution time: 00:00:00.053"
                        ]
                    },
                    "metadata": {},
                    "output_type": "display_data"
                },
                {
                    "data": {
                        "application/vnd.dataresource+json": {
                            "data": [
                                {
                                    "0": "1764"
                                }
                            ],
                            "schema": {
                                "fields": [
                                    {
                                        "name": "(No column name)"
                                    }
                                ]
                            }
                        },
                        "text/html": [
                            "<table>\n",
                            "<tr><th>(No column name)</th></tr>\n",
                            "<tr><td>1764</td></tr>\n",
                            "</table>"
                        ]
                    },
                    "execution_count": 1,
                    "metadata": {},
                    "output_type": "execute_result"
                },
                {
                    "data": {
                        "application/vnd.dataresource+json": {
                            "data": [
                                {
                                    "0": "1764"
                                }
                            ],
                            "schema": {
                                "fields": [
                                    {
                                        "name": "(No column name)"
                                    }
                                ]
                            }
                        },
                        "text/html": [
                            "<table>\n",
                            "<tr><th>(No column name)</th></tr>\n",
                            "<tr><td>1764</td></tr>\n",
                            "</table>"
                        ]
                    },
                    "execution_count": 1,
                    "metadata": {},
                    "output_type": "execute_result"
                }
            ],
            "source": [
                "--Validates all [ProductDetails] data records were moved.\n",
                "\n",
                "--View\n",
                "SELECT COUNT(*) FROM [PipelineSchema].[vw_ProductDetails];\n",
                "--Table\n",
                "SELECT COUNT(*) FROM [PipelineSchema].[ProductDetails];"
            ]
        },
        {
            "cell_type": "code",
            "execution_count": 2,
            "metadata": {
                "azdata_cell_guid": "10d73147-06cc-40aa-a622-aaaf0cf94205",
                "language": "sql"
            },
            "outputs": [
                {
                    "data": {
                        "text/html": [
                            "(1 row affected)"
                        ]
                    },
                    "metadata": {},
                    "output_type": "display_data"
                },
                {
                    "data": {
                        "text/html": [
                            "(1 row affected)"
                        ]
                    },
                    "metadata": {},
                    "output_type": "display_data"
                },
                {
                    "data": {
                        "text/html": [
                            "Total execution time: 00:00:00.051"
                        ]
                    },
                    "metadata": {},
                    "output_type": "display_data"
                },
                {
                    "data": {
                        "application/vnd.dataresource+json": {
                            "data": [
                                {
                                    "0": "32"
                                }
                            ],
                            "schema": {
                                "fields": [
                                    {
                                        "name": "(No column name)"
                                    }
                                ]
                            }
                        },
                        "text/html": [
                            "<table>\n",
                            "<tr><th>(No column name)</th></tr>\n",
                            "<tr><td>32</td></tr>\n",
                            "</table>"
                        ]
                    },
                    "execution_count": 2,
                    "metadata": {},
                    "output_type": "execute_result"
                },
                {
                    "data": {
                        "application/vnd.dataresource+json": {
                            "data": [
                                {
                                    "0": "32"
                                }
                            ],
                            "schema": {
                                "fields": [
                                    {
                                        "name": "(No column name)"
                                    }
                                ]
                            }
                        },
                        "text/html": [
                            "<table>\n",
                            "<tr><th>(No column name)</th></tr>\n",
                            "<tr><td>32</td></tr>\n",
                            "</table>"
                        ]
                    },
                    "execution_count": 2,
                    "metadata": {},
                    "output_type": "execute_result"
                }
            ],
            "source": [
                "--Validates all [ShippedOrders] data records were moved.\n",
                "\n",
                "--View\n",
                "SELECT COUNT(*) FROM [PipelineSchema].[vw_ShippedOrders];\n",
                "--Table\n",
                "SELECT COUNT(*) FROM [PipelineSchema].[ShippedOrders];"
            ]
        },
        {
            "cell_type": "code",
            "execution_count": 3,
            "metadata": {
                "azdata_cell_guid": "b55902f2-4f46-4421-b417-1ae9c4b38e2b",
                "language": "sql"
            },
            "outputs": [
                {
                    "data": {
                        "text/html": [
                            "(1 row affected)"
                        ]
                    },
                    "metadata": {},
                    "output_type": "display_data"
                },
                {
                    "data": {
                        "text/html": [
                            "(1 row affected)"
                        ]
                    },
                    "metadata": {},
                    "output_type": "display_data"
                },
                {
                    "data": {
                        "text/html": [
                            "Total execution time: 00:00:00.051"
                        ]
                    },
                    "metadata": {},
                    "output_type": "display_data"
                },
                {
                    "data": {
                        "application/vnd.dataresource+json": {
                            "data": [
                                {
                                    "0": "3"
                                }
                            ],
                            "schema": {
                                "fields": [
                                    {
                                        "name": "(No column name)"
                                    }
                                ]
                            }
                        },
                        "text/html": [
                            "<table>\n",
                            "<tr><th>(No column name)</th></tr>\n",
                            "<tr><td>3</td></tr>\n",
                            "</table>"
                        ]
                    },
                    "execution_count": 3,
                    "metadata": {},
                    "output_type": "execute_result"
                },
                {
                    "data": {
                        "application/vnd.dataresource+json": {
                            "data": [
                                {
                                    "0": "3"
                                }
                            ],
                            "schema": {
                                "fields": [
                                    {
                                        "name": "(No column name)"
                                    }
                                ]
                            }
                        },
                        "text/html": [
                            "<table>\n",
                            "<tr><th>(No column name)</th></tr>\n",
                            "<tr><td>3</td></tr>\n",
                            "</table>"
                        ]
                    },
                    "execution_count": 3,
                    "metadata": {},
                    "output_type": "execute_result"
                }
            ],
            "source": [
                "--Validates all [SalesPersonStats] data records were moved.\n",
                "\n",
                "--View\n",
                "SELECT COUNT(*) FROM [PipelineSchema].[vw_SalesPersonStats];\n",
                "--Table\n",
                "SELECT COUNT(*) FROM [PipelineSchema].[SalesPersonStats];"
            ]
        }
    ],
    "metadata": {
        "kernelspec": {
            "display_name": "SQL",
            "language": "sql",
            "name": "SQL"
        },
        "language_info": {
            "name": "sql",
            "version": ""
        }
    },
    "nbformat": 4,
    "nbformat_minor": 2
}
